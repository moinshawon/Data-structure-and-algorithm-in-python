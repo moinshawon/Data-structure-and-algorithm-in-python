{
 "cells": [
  {
   "cell_type": "markdown",
   "source": [
    "# Time complexity:\r\n",
    "<hr>\r\n",
    "\r\n",
    "- When a whole list need to be traversed: O(n). n is the size of the list. While iteration it will take time based on the size of the list.\r\n",
    "- When a specific index is taken: O(1). When a specific idx is given, this will be 1 length size.\r\n",
    "- When thare is two loops or two iteration: O(n<sup> 2 </sup>). Bcz it need to traverse the list two times.\r\n",
    "- When there is three loops but one in saperate method or saperate blog: O(n<sup> 2 </sup>). Bcz the two loop's blog is that much massive we can ignore single one.\r\n",
    "- For binary search: O(log n). It will start iteration from middle idx. Check the given value is less or greater than the mid value of the list and divide the list in the middle again. It continues like this.\r\n",
    "- Inserting value in the begining of a list: O(n). Bcz the other elements will move to the next idx.\r\n",
    "- Inserting value in the middle of a list: O(n). Same reason.\r\n",
    "- Inseting value in the end of a list: O(1). Bcz there will not need any movements.\r\n"
   ],
   "metadata": {}
  },
  {
   "cell_type": "code",
   "execution_count": 2,
   "source": [
    "from array import *\r\n",
    "\r\n",
    "# Time complexity: O(1), Space complexity: O(n)\r\n",
    "z = array('i', [3, -323, 23, 3, 4, 98, 29, 60]) # i is for int and [] initial array \r\n",
    "\r\n",
    "print(z.buffer_info()) # give address and len of the array \r\n",
    "print(z.count(3)) # how many time 3 is in z\r\n",
    "print(z.tolist()) # convert into list\r\n",
    "z.remove(29) # remove 29 from the array\r\n",
    "print(type(z))\r\n",
    "\r\n",
    "# 1: Insert value in the list\r\n",
    "def insertValue(arr, value):\r\n",
    "    \r\n",
    "    # Add value in the middle. Complexity: O(n)\r\n",
    "    mid = int(len(arr)/2) # need to set int. otherwise it will give float value\r\n",
    "    arr.insert(mid, value) # add 200 in the mid of array\r\n",
    "    print('insertValue(): 200 added in the middle: ', arr.tolist())\r\n",
    "    \r\n",
    "    # Add value in the end. Complexity: O(1)\r\n",
    "    arr.append(value) # add 200 in the end of the array. insert can be used also\r\n",
    "    print('insertValue(): 200 added at the end: ', arr.tolist())\r\n",
    "    \r\n",
    "    # Add value in the beginning. Complexity: O(n)\r\n",
    "    arr.insert(0, value) # add 200 in the start. cant use append here !\r\n",
    "    print('insertValue(): 200 added in the first: ', arr.tolist())\r\n",
    "insertValue(z, 200)\r\n",
    "\r\n",
    "# 2: Traverse the list\r\n",
    "def traverseArray(a): # itterate through the all the items in the list/array and print\r\n",
    "    for i in a:\r\n",
    "        print(i, end = ' ') # end is what will be added after each item\r\n",
    "traverseArray(z) # call the function and passing my previously mentioned array\r\n",
    "\r\n",
    "# 3: Access an element by giving index num. Complexity: O(1)\r\n",
    "def accessElement(a, index):\r\n",
    "    if index >= len(a): # as idx start from 0. so, need to check given idx less than array's len\r\n",
    "        print('accessElement(): index out of range')\r\n",
    "    else:\r\n",
    "        print('\\n accessElement(): {} th index has value of: {} '.format(index, a[index]))\r\n",
    "accessElement(z, 4) # call the function and passing array and idx\r\n",
    "accessElement(z, 15) # give idx out of range !\r\n",
    "\r\n",
    "# 4: Search a value in the array. Complexity: O(n)\r\n",
    "def searchFor(a, value):\r\n",
    "    if value not in a:\r\n",
    "        print('searchFor(): not found !!')\r\n",
    "    else:\r\n",
    "        print('searchFor(): found !!')\r\n",
    "searchFor(z, 3)\r\n",
    "searchFor(z, 999)\r\n",
    "\r\n",
    "# 5: Search a value and take its index number. Complexity: O(n)\r\n",
    "def indexOf(a, value):\r\n",
    "    flag = False\r\n",
    "    for i in range(len(a)):\r\n",
    "        if a[i] == value:\r\n",
    "            print('indexOf(): the given value {} found at idx num: {}'.format(value, i))\r\n",
    "            flag = True \r\n",
    "            break\r\n",
    "        \r\n",
    "    if not flag: # as useal it will be true, but if the prev condition match it will be false\r\n",
    "        print('indexOf(): the given value {} is not found'.format(value))\r\n",
    "indexOf(z, 35)\r\n",
    "indexOf(z, 4)"
   ],
   "outputs": [
    {
     "output_type": "stream",
     "name": "stdout",
     "text": [
      "(2501810831024, 8)\n",
      "2\n",
      "[3, -323, 23, 3, 4, 98, 29, 60]\n",
      "<class 'array.array'>\n",
      "insertValue(): 200 added in the middle:  [3, -323, 23, 200, 3, 4, 98, 60]\n",
      "insertValue(): 200 added at the end:  [3, -323, 23, 200, 3, 4, 98, 60, 200]\n",
      "insertValue(): 200 added in the first:  [200, 3, -323, 23, 200, 3, 4, 98, 60, 200]\n",
      "200 3 -323 23 200 3 4 98 60 200 \n",
      " accessElement(): 4 th index has value of: 200 \n",
      "index out of range\n",
      "searchFor(): found !!\n",
      "searchFor(): not found !!\n",
      "indexOf(): the given value 35 is not found\n",
      "indexOf(): the given value 4 found at idx num: 6\n"
     ]
    }
   ],
   "metadata": {}
  },
  {
   "cell_type": "markdown",
   "source": [
    "## Some random problem and solutions:"
   ],
   "metadata": {}
  },
  {
   "cell_type": "code",
   "execution_count": 22,
   "source": [
    "# Monthly spent money is given:\r\n",
    "z = [2200, 2350, 2600, 2130, 2190]\r\n",
    "\r\n",
    "# 1. In Feb, how many dollars you spent extra compare to January?\r\n",
    "print('spent extra money in feb: ', z[1]-z[0])\r\n",
    "\r\n",
    "# 2. Find out your total expense in first quarter (first three months) of the year.\r\n",
    "print('total expense in first quarter: ', z[0] + z[1] + z[2])\r\n",
    "\r\n",
    "# 3. Find out if you spent exactly 2000 dollars in any month\r\n",
    "print('did you spend exactly 2000 dollars in any month?: ', 2000 in z)\r\n",
    "\r\n",
    "# 4. June month just finished and your expense is 1980 dollar. Add this item to our monthly expense list\r\n",
    "z.append(1980)\r\n",
    "print('june month added:', z)\r\n",
    "\r\n",
    "# 5. You returned an item that you bought in a month of April and got a refund of 200$.\r\n",
    "# Make a correction to your monthly expense list based on this\r\n",
    "z[3] = z[3] - 200\r\n",
    "print(z)"
   ],
   "outputs": [
    {
     "output_type": "stream",
     "name": "stdout",
     "text": [
      "spent extra money in feb:  150\n",
      "total expense in first quarter:  7150\n",
      "did you spend exactly 2000 dollars in any month?:  False\n",
      "june month added: [2200, 2350, 2600, 2130, 2190, 1980]\n",
      "[2200, 2350, 2600, 1930, 2190, 1980]\n"
     ]
    }
   ],
   "metadata": {}
  },
  {
   "cell_type": "code",
   "execution_count": 23,
   "source": [
    "heros=['spider man','thor','hulk','iron man','captain america']\r\n",
    "\r\n",
    "print(len(heros))\r\n",
    "\r\n",
    "# 2. Add 'black panther' at the end of this list\r\n",
    "heros.append('black panther')\r\n",
    "\r\n",
    "# 3. You realize that you need to add 'black panther' after 'hulk',\r\n",
    "# so remove it from the list first and then add it after 'hulk'\r\n",
    "heros.remove('black panther')\r\n",
    "heros.insert(3, 'black panter')\r\n",
    "print(heros)\r\n",
    "\r\n",
    "# 4. remove thor and hulk from list and replace them with doctor strange (because he is cool). Do that with one line of code.\r\n",
    "heros[1:3] = ['doctor strange']\r\n",
    "print(heros)\r\n",
    "\r\n",
    "# 5. Sort the heros list in alphabetical order (Hint. Use dir() functions to list down all functions available in list)\r\n",
    "heros.sort()\r\n",
    "print(heros)"
   ],
   "outputs": [
    {
     "output_type": "stream",
     "name": "stdout",
     "text": [
      "5\n",
      "['spider man', 'thor', 'hulk', 'black panter', 'iron man', 'captain america']\n",
      "['spider man', 'doctor strange', 'black panter', 'iron man', 'captain america']\n",
      "['black panter', 'captain america', 'doctor strange', 'iron man', 'spider man']\n"
     ]
    }
   ],
   "metadata": {}
  },
  {
   "cell_type": "code",
   "execution_count": 21,
   "source": [
    "# Create a list of all odd numbers between 1 and a max number. \r\n",
    "# Max number is something you need to take from a user using input() function\r\n",
    "\r\n",
    "max = int(input('give max number'))\r\n",
    "\r\n",
    "odd_list = []\r\n",
    "\r\n",
    "for i in range(1, max):\r\n",
    "    if i % 2 != 0:\r\n",
    "        odd_list.append(i)\r\n",
    "        \r\n",
    "print(odd_list)"
   ],
   "outputs": [
    {
     "output_type": "stream",
     "name": "stdout",
     "text": [
      "[1, 3, 5, 7]\n"
     ]
    }
   ],
   "metadata": {}
  }
 ],
 "metadata": {
  "orig_nbformat": 4,
  "language_info": {
   "name": "python",
   "version": "3.8.5",
   "mimetype": "text/x-python",
   "codemirror_mode": {
    "name": "ipython",
    "version": 3
   },
   "pygments_lexer": "ipython3",
   "nbconvert_exporter": "python",
   "file_extension": ".py"
  },
  "kernelspec": {
   "name": "python3",
   "display_name": "Python 3.8.5 64-bit ('base': conda)"
  },
  "interpreter": {
   "hash": "b3ba2566441a7c06988d0923437866b63cedc61552a5af99d1f4fb67d367b25f"
  }
 },
 "nbformat": 4,
 "nbformat_minor": 2
}