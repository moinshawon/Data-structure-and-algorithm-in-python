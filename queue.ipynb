{
 "cells": [
  {
   "cell_type": "markdown",
   "source": [
    "## Queue using list ❌"
   ],
   "metadata": {}
  },
  {
   "cell_type": "code",
   "execution_count": 3,
   "source": [
    "q = []\r\n",
    "q.insert(0, 50)\r\n",
    "q.insert(0, 32)\r\n",
    "q.insert(0, 41)\r\n",
    "print(q)"
   ],
   "outputs": [
    {
     "output_type": "stream",
     "name": "stdout",
     "text": [
      "[41, 32, 50]\n"
     ]
    }
   ],
   "metadata": {}
  },
  {
   "cell_type": "code",
   "execution_count": 4,
   "source": [
    "print(q.pop())\r\n",
    "print(q)"
   ],
   "outputs": [
    {
     "output_type": "stream",
     "name": "stdout",
     "text": [
      "50\n",
      "[41, 32]\n"
     ]
    }
   ],
   "metadata": {}
  },
  {
   "cell_type": "markdown",
   "source": [
    "## Queue using deque function ✔️"
   ],
   "metadata": {}
  },
  {
   "cell_type": "code",
   "execution_count": 6,
   "source": [
    "from collections import deque\r\n",
    "q = deque()"
   ],
   "outputs": [],
   "metadata": {}
  },
  {
   "cell_type": "code",
   "execution_count": 6,
   "source": [
    "q.appendleft(34)   # keep adding from the lest side of the first element. thus, the first one goes last position in the list\r\n",
    "q.appendleft(423)\r\n",
    "q.appendleft(4)\r\n",
    "print(q)"
   ],
   "outputs": [
    {
     "output_type": "stream",
     "name": "stdout",
     "text": [
      "deque([4, 423, 34])\n"
     ]
    }
   ],
   "metadata": {}
  },
  {
   "cell_type": "code",
   "execution_count": 8,
   "source": [
    "q.pop()  # pop() always gives the last element from the list"
   ],
   "outputs": [
    {
     "output_type": "execute_result",
     "data": {
      "text/plain": [
       "34"
      ]
     },
     "metadata": {},
     "execution_count": 8
    }
   ],
   "metadata": {}
  },
  {
   "cell_type": "code",
   "execution_count": 12,
   "source": [
    "class queue:\r\n",
    "    def __init__(self):\r\n",
    "        self.buffer = deque()\r\n",
    "        \r\n",
    "    def enqueue(self, element):\r\n",
    "        self.buffer.appendleft(element)\r\n",
    "    \r\n",
    "    def dequeue(self):\r\n",
    "        return self.buffer.pop()\r\n",
    "        \r\n",
    "    def length(self):\r\n",
    "        return len(self.buffer)\r\n",
    "    \r\n",
    "    def is_empty(self):\r\n",
    "        return len(self.buffer) == 0\r\n",
    "    \r\n",
    "    def front(self):\r\n",
    "        return self.buffer[-1]"
   ],
   "outputs": [],
   "metadata": {}
  },
  {
   "cell_type": "code",
   "execution_count": 31,
   "source": [
    "q = queue()\r\n",
    "\r\n",
    "q.enqueue(23)\r\n",
    "q.enqueue(232)\r\n",
    "q.enqueue(90)"
   ],
   "outputs": [],
   "metadata": {}
  },
  {
   "cell_type": "code",
   "execution_count": 32,
   "source": [
    "print(q.dequeue())\r\n",
    "print(q.length())\r\n",
    "print(q.is_empty())"
   ],
   "outputs": [
    {
     "output_type": "stream",
     "name": "stdout",
     "text": [
      "23\n",
      "2\n",
      "False\n"
     ]
    }
   ],
   "metadata": {}
  },
  {
   "cell_type": "markdown",
   "source": [
    "## Design a food ordering system where your python program will run two threads\r\n",
    "- Place Order: This thread will be placing an order and inserting that into a queue. This thread places new order every 0.5 second. (hint: use time.sleep(0.5) function)\r\n",
    "- Serve Order: This thread will server the order. All you need to do is pop the order out of the queue and print it. This thread serves an order every 2 seconds. Also start this thread 1 second after place order thread is started.\r\n",
    "\r\n",
    "    Pass following list as an argument to place order thread,\r\n",
    "    ```\r\n",
    "    orders = ['pizza','samosa','pasta','biryani','burger']\r\n",
    "    ```\r\n",
    "    This problem is a producer,consumer problem where place_order thread is producing orders whereas server_order thread is consuming the food orders."
   ],
   "metadata": {}
  },
  {
   "cell_type": "code",
   "execution_count": 10,
   "source": [
    "import time\r\n",
    "import threading\r\n",
    "\r\n",
    "q = queue()\r\n",
    "\r\n",
    "def place_order(element):\r\n",
    "    for i in element:\r\n",
    "        print(\"order placing:\", i)\r\n",
    "        q.enqueue(i)\r\n",
    "        time.sleep(0.5)\r\n",
    "        \r\n",
    "def serve_order():\r\n",
    "    time.sleep(1)\r\n",
    "    while q.is_empty() == False:         # when it gets empty we close\r\n",
    "        print(\"serving: \", q.dequeue())\r\n",
    "        time.sleep(2)\r\n",
    "\r\n",
    "orders = ['pizza','samosa','pasta','biryani','burger']\r\n",
    "\r\n",
    "t = time.time()\r\n",
    "\r\n",
    "t1 = threading.Thread(target = place_order, args = (orders,)) \r\n",
    "t2 = threading.Thread(target = serve_order)\r\n",
    "\r\n",
    "t1.start() # it will start the thread\r\n",
    "t2.start() \r\n",
    "\r\n",
    "t1.join()  # wait until t1 is done. means wait until the sq function finishes\r\n",
    "t2.join()\r\n",
    "\r\n",
    "print(\"done in : \", time.time()-t)"
   ],
   "outputs": [
    {
     "output_type": "stream",
     "name": "stdout",
     "text": [
      "order placing: pizza\n",
      "order placing: samosa\n",
      "serving:  pizza\n",
      "order placing: pasta\n",
      "order placing: biryani\n",
      "order placing: burger\n",
      "serving:  samosa\n",
      "serving:  pasta\n",
      "serving:  biryani\n",
      "serving:  burger\n",
      "done in :  11.080432891845703\n"
     ]
    }
   ],
   "metadata": {}
  },
  {
   "cell_type": "markdown",
   "source": [
    "## Multi threading:"
   ],
   "metadata": {}
  },
  {
   "cell_type": "code",
   "execution_count": 11,
   "source": [
    "import time\r\n",
    "import threading\r\n",
    "\r\n",
    "def sq(arr):\r\n",
    "    for i in arr:\r\n",
    "        time.sleep(1)\r\n",
    "        print(\"square: \",i*i)\r\n",
    "        \r\n",
    "def cube(arr):\r\n",
    "    for i in arr:\r\n",
    "        time.sleep(1)\r\n",
    "        print(\"cube: \",i*i*i)\r\n",
    "        \r\n",
    "arr = [3, 4, 5]\r\n",
    "\r\n",
    "t = time.time()\r\n",
    "\r\n",
    "t1 = threading.Thread(target = sq, args = (arr,))   # creating thread. target = the test i want to do. args = the elem my function takes\r\n",
    "t2 = threading.Thread(target = cube, args = (arr,))\r\n",
    "\r\n",
    "t1.start() # it will start the thread\r\n",
    "t2.start() \r\n",
    "\r\n",
    "t1.join()  # wait until t1 is done. means wait until the sq function finishes\r\n",
    "t2.join()\r\n",
    "\r\n",
    "print(\"done in : \", time.time()-t)"
   ],
   "outputs": [
    {
     "output_type": "stream",
     "name": "stdout",
     "text": [
      "square:  9\n",
      "cube:  27\n",
      "square:  16\n",
      "cube:  64\n",
      "square:  25\n",
      "cube:  125\n",
      "done in :  3.053708791732788\n"
     ]
    }
   ],
   "metadata": {}
  },
  {
   "cell_type": "markdown",
   "source": [
    "## Write a program to print binary numbers from 1 to 10 using Queue. Use Queue class implemented in main tutorial.\r\n",
    "Binary sequence should look like,\r\n",
    "```\r\n",
    "    1\r\n",
    "    10\r\n",
    "    11\r\n",
    "    100\r\n",
    "    101\r\n",
    "    110\r\n",
    "    111\r\n",
    "    1000\r\n",
    "    1001\r\n",
    "    1010\r\n",
    "```\r\n",
    "Hint: Notice a pattern above. After 1 second and third number is 1+0 and 1+1. 4th and 5th number are second number (i.e. 10) + 0 and second number (i.e. 10) + 1.\r\n",
    "\r\n",
    "You also need to add front() function in queue class that can return the front element in the queue."
   ],
   "metadata": {}
  },
  {
   "cell_type": "code",
   "execution_count": 14,
   "source": [
    "def add_binary(n):\r\n",
    "    q = queue()\r\n",
    "    \r\n",
    "    q.enqueue(\"1\")                    # first manually we have to give 1 and set it as front. Then add 0, add 1. Then we pop front value. \r\n",
    "    \r\n",
    "    for i in range(n):\r\n",
    "        f = q.front()                 # front will be used for next two values\r\n",
    "        print(\"front value is: \", f)\r\n",
    "        q.enqueue(f + \"0\")            # add 0 with front value\r\n",
    "        q.enqueue(f + \"1\")            # add 1 with front value\r\n",
    "        print(q.dequeue())            # dequeue the front value. new front value will be set and again add 0 with it, add 1 with it.....\r\n",
    "        \r\n",
    "add_binary(10)"
   ],
   "outputs": [
    {
     "output_type": "stream",
     "name": "stdout",
     "text": [
      "front value is:  1\n",
      "1\n",
      "front value is:  10\n",
      "10\n",
      "front value is:  11\n",
      "11\n",
      "front value is:  100\n",
      "100\n",
      "front value is:  101\n",
      "101\n",
      "front value is:  110\n",
      "110\n",
      "front value is:  111\n",
      "111\n",
      "front value is:  1000\n",
      "1000\n",
      "front value is:  1001\n",
      "1001\n",
      "front value is:  1010\n",
      "1010\n"
     ]
    }
   ],
   "metadata": {}
  }
 ],
 "metadata": {
  "orig_nbformat": 4,
  "language_info": {
   "name": "python",
   "version": "3.8.5",
   "mimetype": "text/x-python",
   "codemirror_mode": {
    "name": "ipython",
    "version": 3
   },
   "pygments_lexer": "ipython3",
   "nbconvert_exporter": "python",
   "file_extension": ".py"
  },
  "kernelspec": {
   "name": "python3",
   "display_name": "Python 3.8.5 64-bit ('base': conda)"
  },
  "interpreter": {
   "hash": "b3ba2566441a7c06988d0923437866b63cedc61552a5af99d1f4fb67d367b25f"
  }
 },
 "nbformat": 4,
 "nbformat_minor": 2
}