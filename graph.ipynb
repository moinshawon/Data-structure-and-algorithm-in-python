{
 "cells": [
  {
   "cell_type": "code",
   "execution_count": 22,
   "metadata": {},
   "outputs": [
    {
     "name": "stdout",
     "output_type": "stream",
     "text": [
      "{'Mumbai': ['Paris', 'Dubai'], 'Paris': ['Dubai', 'New York'], 'Dubai': ['New York'], 'New York': ['Toronto']}\n",
      "All paths between: Mumbai and Toronto:  [['Mumbai', 'Paris', 'Dubai', 'New York', 'Toronto'], ['Mumbai', 'Paris', 'New York', 'Toronto'], ['Mumbai', 'Dubai', 'New York', 'Toronto']]\n",
      "Shortest path between Mumbai and Toronto:  ['Mumbai', 'Paris', 'New York', 'Toronto']\n"
     ]
    }
   ],
   "source": [
    "class graph:\n",
    "    def __init__(self, edges):\n",
    "        self.edges = edges\n",
    "        self.dict = {}\n",
    "        for start, end in self.edges:                      # the tuple will be broken into start and end\n",
    "            if start not in self.dict:                     # check the key already not exists\n",
    "                self.dict[start] = [end]                   # add the value as a list\n",
    "            else:\n",
    "                self.dict[start].append(end)               # if same key already exists then append in the prev list\n",
    "        \n",
    "        print(self.dict)\n",
    "    \n",
    "    def get_path(self, start, end, path = []):             # the path is to add the prev line up\n",
    "        path = path + [start]                              # keep adding the node that visting\n",
    "        \n",
    "        if start == end:                                   # when we find the destination then return the path\n",
    "            return [path]\n",
    "        \n",
    "        if start not in self.dict:                         # when the start node not in keys then return empty list\n",
    "            return []\n",
    "        \n",
    "        paths = []\n",
    "        for node in self.dict[start]:                      # iterating through the values of the keys\n",
    "            if node not in path:                           # the value cant be already accessed\n",
    "                new_paths = self.get_path(node, end, path) # visiting the nodes that already in values of start dict \n",
    "                for i in new_paths:                        # appending all the paths into a new var\n",
    "                    paths.append(i)\n",
    "                    \n",
    "        return paths\n",
    "    \n",
    "    def get_shortest_path(self, start, end, path = []):\n",
    "        path = path + [start]\n",
    "        \n",
    "        if start == end:\n",
    "            return path                                                             # it will be just path not list like previous\n",
    "        \n",
    "        if start not in self.dict:\n",
    "            return None                                                             # if there has no route to travel then no shortest path\n",
    "        \n",
    "        shrotest_path = None\n",
    "        for node in self.dict[start]:\n",
    "            if node not in path:\n",
    "                new_sp = self.get_shortest_path(node, end, path)                    # getting all the route from start to end\n",
    "                if new_sp:\n",
    "                    if shrotest_path is None or len(new_sp) < len(shrotest_path):   # i will check which has least item in the list\n",
    "                        shrotest_path = new_sp\n",
    "                \n",
    "        return shrotest_path\n",
    "    \n",
    "if __name__ == '__main__':\n",
    "    \n",
    "    routes = [\n",
    "        (\"Mumbai\", \"Paris\"),\n",
    "        (\"Mumbai\", \"Dubai\"),\n",
    "        (\"Paris\", \"Dubai\"),\n",
    "        (\"Paris\", \"New York\"),\n",
    "        (\"Dubai\", \"New York\"),\n",
    "        (\"New York\", \"Toronto\"),\n",
    "    ]\n",
    "    \n",
    "    obj = graph(routes)\n",
    "    \n",
    "    start = \"Mumbai\"\n",
    "    end = \"Toronto\"\n",
    "\n",
    "    print(f\"All paths between: {start} and {end}: \", obj.get_path(start, end))\n",
    "    print(f\"Shortest path between {start} and {end}: \", obj.get_shortest_path(start,end))\n"
   ]
  }
 ],
 "metadata": {
  "interpreter": {
   "hash": "086d259ff9287b98f73354a2b508162d934608c35607af6d43420d9e3e46eafe"
  },
  "kernelspec": {
   "display_name": "Python 3.9.1 64-bit",
   "name": "python3"
  },
  "language_info": {
   "codemirror_mode": {
    "name": "ipython",
    "version": 3
   },
   "file_extension": ".py",
   "mimetype": "text/x-python",
   "name": "python",
   "nbconvert_exporter": "python",
   "pygments_lexer": "ipython3",
   "version": "3.9.1"
  },
  "orig_nbformat": 4
 },
 "nbformat": 4,
 "nbformat_minor": 2
}
