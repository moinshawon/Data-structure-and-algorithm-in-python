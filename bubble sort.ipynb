{
 "cells": [
  {
   "cell_type": "code",
   "execution_count": 45,
   "metadata": {},
   "outputs": [
    {
     "name": "stdout",
     "output_type": "stream",
     "text": [
      "[1, 2, 5, 9, 34, 67, 88]\n"
     ]
    }
   ],
   "source": [
    "def bubble_sort(elem, key):\n",
    "    size = len(elem)\n",
    "    \n",
    "    for i in range(size - 1):\n",
    "        swap = False\n",
    "        for j in range(size - 1 - i):\n",
    "            if elem[j] > elem[j+1]:\n",
    "                temp = elem[j+1]\n",
    "                elem[j+1] = elem[j]\n",
    "                elem[j] = temp\n",
    "                swap = True\n",
    "        if not swap:\n",
    "            break\n",
    "            \n",
    "\n",
    "if __name__ == '__main__':\n",
    "    elements = [9,5,2,1,67,34,88]\n",
    "    # elements = [1,2,3,4]\n",
    "    # elements = [\"moinul\", \"raihan\", \"mehruz\", \"rifat\", \"zarif\"]\n",
    "\n",
    "    bubble_sort(elements, key = \"name\")\n",
    "    print(elements)"
   ]
  },
  {
   "cell_type": "code",
   "execution_count": 47,
   "metadata": {},
   "outputs": [
    {
     "name": "stdout",
     "output_type": "stream",
     "text": [
      "1000\n",
      "400\n",
      "200\n",
      "800\n"
     ]
    }
   ],
   "source": [
    "elements = [\n",
    "        { 'name': 'mona',   'transaction_amount': 1000, 'device': 'iphone-10'},\n",
    "        { 'name': 'dhaval', 'transaction_amount': 400,  'device': 'google pixel'},\n",
    "        { 'name': 'kathy',  'transaction_amount': 200,  'device': 'vivo'},\n",
    "        { 'name': 'aamir',  'transaction_amount': 800,  'device': 'iphone-8'},\n",
    "    ]\n",
    "\n",
    "for i in range(len(elements)):\n",
    "    print(elements[i]['transaction_amount'])"
   ]
  },
  {
   "cell_type": "code",
   "execution_count": 51,
   "metadata": {},
   "outputs": [
    {
     "name": "stdout",
     "output_type": "stream",
     "text": [
      "temp dict is:  {'name': 'dhaval', 'transaction_amount': 400, 'device': 'google pixel'}\n",
      "temp dict is:  {'name': 'kathy', 'transaction_amount': 200, 'device': 'vivo'}\n",
      "temp dict is:  {'name': 'aamir', 'transaction_amount': 800, 'device': 'iphone-8'}\n",
      "temp dict is:  {'name': 'kathy', 'transaction_amount': 200, 'device': 'vivo'}\n",
      "[{'name': 'kathy', 'transaction_amount': 200, 'device': 'vivo'}, {'name': 'dhaval', 'transaction_amount': 400, 'device': 'google pixel'}, {'name': 'aamir', 'transaction_amount': 800, 'device': 'iphone-8'}, {'name': 'mona', 'transaction_amount': 1000, 'device': 'iphone-10'}]\n"
     ]
    }
   ],
   "source": [
    "def bubble_sort(elem, key = None):\n",
    "    size = len(elem)\n",
    "    \n",
    "    for i in range(size - 1):\n",
    "        swap = False\n",
    "        for j in range(size - 1 - i):\n",
    "            first = elem[j][key]\n",
    "            second = elem[j+1][key]\n",
    "            \n",
    "            if first > second:\n",
    "                temp = elem[j+1]\n",
    "                print(\"temp dict is: \",temp)\n",
    "                elem[j+1] = elem[j]\n",
    "                elem[j] = temp\n",
    "                swap = True\n",
    "        if not swap:\n",
    "            break\n",
    "            \n",
    "\n",
    "if __name__ == '__main__':\n",
    "\n",
    "    elements = [\n",
    "            { 'name': 'mona',   'transaction_amount': 1000, 'device': 'iphone-10'},\n",
    "            { 'name': 'dhaval', 'transaction_amount': 400,  'device': 'google pixel'},\n",
    "            { 'name': 'kathy',  'transaction_amount': 200,  'device': 'vivo'},\n",
    "            { 'name': 'aamir',  'transaction_amount': 800,  'device': 'iphone-8'},\n",
    "        ]\n",
    "\n",
    "    bubble_sort(elements, key = \"transaction_amount\")\n",
    "    print(elements)"
   ]
  }
 ],
 "metadata": {
  "interpreter": {
   "hash": "3b915a5fa6336890ffb38cc48c0373e991f7c1ad0023a33ae5cf6a81115cbaec"
  },
  "kernelspec": {
   "display_name": "Python 3.8.5 64-bit ('tf': conda)",
   "language": "python",
   "name": "python3"
  },
  "language_info": {
   "codemirror_mode": {
    "name": "ipython",
    "version": 3
   },
   "file_extension": ".py",
   "mimetype": "text/x-python",
   "name": "python",
   "nbconvert_exporter": "python",
   "pygments_lexer": "ipython3",
   "version": "3.8.5"
  },
  "orig_nbformat": 4
 },
 "nbformat": 4,
 "nbformat_minor": 2
}
