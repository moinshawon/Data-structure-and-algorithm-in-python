{
 "cells": [
  {
   "cell_type": "code",
   "execution_count": 1,
   "metadata": {},
   "outputs": [
    {
     "name": "stdout",
     "output_type": "stream",
     "text": [
      "4\n",
      "4\n"
     ]
    }
   ],
   "source": [
    "a = [3,4,23,26,44,13]\n",
    "\n",
    "count = 0\n",
    "for i in a:\n",
    "    if i == 44:\n",
    "        print(count)\n",
    "    count +=1\n",
    "    \n",
    "for idx, elm in enumerate(a):\n",
    "    if elm == 44:\n",
    "        print(idx)"
   ]
  },
  {
   "cell_type": "code",
   "execution_count": 13,
   "metadata": {},
   "outputs": [
    {
     "name": "stdout",
     "output_type": "stream",
     "text": [
      "found index at:  2\n",
      "Found recursion idx at:  2\n"
     ]
    }
   ],
   "source": [
    "def binary_search(lst, find_num):\n",
    "    left_idx = 0\n",
    "    right_idx = len(lst) - 1\n",
    "    \n",
    "    while left_idx <= right_idx:\n",
    "        mid_idx = (left_idx + right_idx) // 2                  # bcz i need decimal number\n",
    "        mid_num = lst[mid_idx]\n",
    "        \n",
    "        if mid_num == find_num:\n",
    "            return mid_idx\n",
    "        \n",
    "        if mid_num < find_num:\n",
    "            left_idx = mid_idx + 1\n",
    "        else:\n",
    "            right_idx = mid_idx - 1\n",
    "            \n",
    "    return -1\n",
    "\n",
    "def binary_search_recursion(lst, find_num, left_idx, right_idx):\n",
    "    mid_idx = (left_idx + right_idx) // 2\n",
    "    mid_num = lst[mid_idx]\n",
    "    \n",
    "    if mid_num == find_num:\n",
    "        return mid_idx\n",
    "    if mid_num < find_num:\n",
    "        left_idx = mid_idx + 1\n",
    "    else:\n",
    "        right_idx = right_idx - 1    \n",
    "    \n",
    "    return binary_search_recursion(lst, find_num, left_idx, right_idx)\n",
    "    \n",
    "if __name__ == '__main__':\n",
    "    num_of_lst = [2, 4, 41, 55, 77, 79, 84, 91, 134, 195]\n",
    "    num_to_find = 41\n",
    "    \n",
    "    idx = binary_search(num_of_lst, num_to_find)\n",
    "    print(\"found index at: \", idx)\n",
    "    \n",
    "    recursion_idx = binary_search_recursion(num_of_lst, num_to_find, 0, len(num_of_lst))\n",
    "    print(\"Found recursion idx at: \" , recursion_idx)"
   ]
  }
 ],
 "metadata": {
  "interpreter": {
   "hash": "3b915a5fa6336890ffb38cc48c0373e991f7c1ad0023a33ae5cf6a81115cbaec"
  },
  "kernelspec": {
   "display_name": "Python 3.8.5 64-bit ('tf': conda)",
   "language": "python",
   "name": "python3"
  },
  "language_info": {
   "codemirror_mode": {
    "name": "ipython",
    "version": 3
   },
   "file_extension": ".py",
   "mimetype": "text/x-python",
   "name": "python",
   "nbconvert_exporter": "python",
   "pygments_lexer": "ipython3",
   "version": "3.8.5"
  },
  "orig_nbformat": 4
 },
 "nbformat": 4,
 "nbformat_minor": 2
}
