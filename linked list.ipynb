{
 "cells": [
  {
   "cell_type": "code",
   "execution_count": 71,
   "metadata": {},
   "outputs": [],
   "source": [
    "class node():\n",
    "    def __init__(self, data = None):\n",
    "        self.data = data\n",
    "        self.next = None\n",
    "        \n",
    "class linked_list():\n",
    "    def __init__(self):\n",
    "        self.head = node() # this a place holder. there is no data. it will be created from avobe method(), unlike the udemy's one\n",
    "        \n",
    "    def append(self, data):\n",
    "        new_node = node(data) # creating new node\n",
    "        cur_node = self.head  # working as placeholder \n",
    "        while cur_node.next!=None: # need to find the last node. the last node's next will be None\n",
    "            cur_node = cur_node.next # itterate through nodes\n",
    "        cur_node.next = new_node # when the while finished that means we got last node. now, addressing the next with new node\n",
    "        \n",
    "    def length(self):\n",
    "        cur_node = self.head # first place holder\n",
    "        count = 0\n",
    "        while cur_node.next != None:\n",
    "            count += 1\n",
    "            cur_node = cur_node.next # itteration\n",
    "        return count\n",
    "    \n",
    "    def display(self):\n",
    "        cur_node = self.head\n",
    "        element = []\n",
    "        while cur_node.next != None: \n",
    "            cur_node = cur_node.next # there is no data in head so, we need to go to next node which is the first node\n",
    "            element.append(cur_node.data)\n",
    "        print(element)\n",
    "        \n",
    "    def get(self, index):\n",
    "        if index <0 or index >= self.length():\n",
    "            raise Exception(\"Invalide index\")\n",
    "        \n",
    "        cur_node = self.head\n",
    "        cur_idx = 0\n",
    "        while True:\n",
    "            cur_node = cur_node.next\n",
    "            if cur_idx == index:\n",
    "                return cur_node.data\n",
    "            cur_idx += 1\n",
    "        \n",
    "    def remove(self, index):\n",
    "        if index <0 or index >= self.length():\n",
    "            raise Exception(\"Invalide index\")\n",
    "        \n",
    "        cur_node = self.head\n",
    "        cur_idx = 0\n",
    "        while True:\n",
    "            last_node = cur_node\n",
    "            cur_node = cur_node.next\n",
    "            if cur_idx == index:\n",
    "                last_node.next = cur_node.next\n",
    "                return\n",
    "            cur_idx += 1\n",
    "        "
   ]
  },
  {
   "cell_type": "code",
   "execution_count": 72,
   "metadata": {},
   "outputs": [
    {
     "name": "stdout",
     "output_type": "stream",
     "text": [
      "[1, 44, 564, 53]\n",
      "None\n",
      "53\n",
      "None\n",
      "[1, 564, 53]\n"
     ]
    }
   ],
   "source": [
    "ll = linked_list()\n",
    "\n",
    "ll.append(1)\n",
    "ll.append(44)\n",
    "ll.append(564)\n",
    "ll.append(53)\n",
    "ll.display()\n",
    "\n",
    "print(ll.get(3))\n",
    "\n",
    "ll.remove(1)\n",
    "ll.display()"
   ]
  },
  {
   "cell_type": "markdown",
   "metadata": {},
   "source": [
    "## Creation of single linked list"
   ]
  },
  {
   "cell_type": "code",
   "execution_count": 2,
   "metadata": {},
   "outputs": [],
   "source": [
    "\n",
    "class node():\n",
    "    def __init__(self, value = None):\n",
    "        self.value = value\n",
    "        self.next = None\n",
    "        \n",
    "class Singly_linked_list:\n",
    "    def __init__(self):\n",
    "        self.head = None # not creating node like upper cell. here, it's just a placeholder. self.head = node1, means head pointing the node1\n",
    "        self.tail = None # note creating node\n",
    "        \n",
    "sll = Singly_linked_list()\n",
    "node1 = node(1) # creating node\n",
    "node2 = node(2) # creating node\n",
    "\n",
    "sll.head = node1       # pointing the head to the node1\n",
    "sll.head.next = node2  # settig node1's next = node2\n",
    "sll.tail = node2       # pointing the tail to the node2. as it is our last node here\n",
    "\n",
    "# CHECKING FOR DETAILS\n",
    "print(sll.head)\n",
    "print(node1)\n",
    "print(sll.head.next)\n",
    "print(node2)"
   ]
  },
  {
   "cell_type": "code",
   "execution_count": 1,
   "metadata": {},
   "outputs": [],
   "source": [
    "class node():\n",
    "    def __init__(self, value = None):\n",
    "        self.value = value\n",
    "        self.next = None\n",
    "        \n",
    "class Singly_linked_list:\n",
    "    def __init__(self):\n",
    "        self.head = None\n",
    "        self.tail = None\n",
    "    \n",
    "    def __iter__(self):      # itr through all the nodes and through the node's value\n",
    "        node = self.head \n",
    "        while node:\n",
    "            yield node       # it's a generator. return each value from the node\n",
    "            node = node.next\n",
    "    \n",
    "    def insert_node(self, value, location): # time complexity O(n), space complexity O(1)\n",
    "        newNode = node(value) # creating a new node\n",
    "        \n",
    "        if self.head is None:   # if this is an empty linked list\n",
    "            self.head = newNode # pointing head to the newly created node\n",
    "            self.tail = newNode # pointing tail to the newly created node as there is only 1 node\n",
    "        else:\n",
    "            if location == 0:             # adding new node at the beginning\n",
    "                newNode.next = self.head  # from new node pointing the current first node\n",
    "                self.head = newNode       # changing the head to point the new node\n",
    "                \n",
    "            elif location == 1:           # adding node to the last position\n",
    "                newNode.next  = None      # as the last node will point none\n",
    "                self.tail.next = newNode  # previously tail pointing the last node. now, i catching the current last node by tail.next & current last node pointing new node\n",
    "                self.tail = newNode       # pointing tail to the new node\n",
    "            \n",
    "            else:\n",
    "                prev_node = self.head          # for pointing prev node of the given location\n",
    "                idx = 0                        # for traves \n",
    "                while idx < location - 1:      # will stop before given location\n",
    "                    prev_node = prev_node.next # traves and throw error if idx out of range\n",
    "                    idx += 1\n",
    "                newNode.next = prev_node.next  # new node's next point the previously given location\n",
    "                prev_node.next = newNode       \n",
    "        "
   ]
  },
  {
   "cell_type": "code",
   "execution_count": 2,
   "metadata": {},
   "outputs": [
    {
     "name": "stdout",
     "output_type": "stream",
     "text": [
      "[0, 1, 2, 99, 3, 4]\n"
     ]
    }
   ],
   "source": [
    "singlyLinkedList = Singly_linked_list()\n",
    "\n",
    "singlyLinkedList.insert_node(1, 1)\n",
    "singlyLinkedList.insert_node(2, 1)\n",
    "singlyLinkedList.insert_node(3, 1)\n",
    "singlyLinkedList.insert_node(4, 1)\n",
    "\n",
    "singlyLinkedList.insert_node(0, 0)\n",
    "\n",
    "singlyLinkedList.insert_node(99, 3)\n",
    "\n",
    "print([node.value for node in singlyLinkedList]) # printing out the value from node. __iter__ automatically called"
   ]
  }
 ],
 "metadata": {
  "interpreter": {
   "hash": "b3ba2566441a7c06988d0923437866b63cedc61552a5af99d1f4fb67d367b25f"
  },
  "kernelspec": {
   "display_name": "Python 3.8.5 64-bit ('base': conda)",
   "name": "python3"
  },
  "language_info": {
   "codemirror_mode": {
    "name": "ipython",
    "version": 3
   },
   "file_extension": ".py",
   "mimetype": "text/x-python",
   "name": "python",
   "nbconvert_exporter": "python",
   "pygments_lexer": "ipython3",
   "version": "3.8.5"
  },
  "orig_nbformat": 4
 },
 "nbformat": 4,
 "nbformat_minor": 2
}
