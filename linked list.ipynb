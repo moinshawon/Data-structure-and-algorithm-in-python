{
 "cells": [
  {
   "cell_type": "code",
   "execution_count": 71,
   "source": [
    "class node():\r\n",
    "    def __init__(self, data = None):\r\n",
    "        self.data = data\r\n",
    "        self.next = None\r\n",
    "        \r\n",
    "class linked_list():\r\n",
    "    def __init__(self):\r\n",
    "        self.head = node() # this a place holder. there is no data. it will be created from avobe method(), unlike the udemy's one\r\n",
    "        \r\n",
    "    def append(self, data):\r\n",
    "        new_node = node(data) # creating new node\r\n",
    "        cur_node = self.head  # working as placeholder \r\n",
    "        while cur_node.next!=None: # need to find the last node. the last node's next will be None\r\n",
    "            cur_node = cur_node.next # itterate through nodes\r\n",
    "        cur_node.next = new_node # when the while finished that means we got last node. now, addressing the next with new node\r\n",
    "        \r\n",
    "    def length(self):\r\n",
    "        cur_node = self.head # first place holder\r\n",
    "        count = 0\r\n",
    "        while cur_node.next != None:\r\n",
    "            count += 1\r\n",
    "            cur_node = cur_node.next # itteration\r\n",
    "        return count\r\n",
    "    \r\n",
    "    def display(self):\r\n",
    "        cur_node = self.head\r\n",
    "        element = []\r\n",
    "        while cur_node.next != None: \r\n",
    "            cur_node = cur_node.next # there is no data in head so, we need to go to next node which is the first node\r\n",
    "            element.append(cur_node.data)\r\n",
    "        print(element)\r\n",
    "        \r\n",
    "    def get(self, index):\r\n",
    "        if index <0 or index >= self.length():\r\n",
    "            raise Exception(\"Invalide index\")\r\n",
    "        \r\n",
    "        cur_node = self.head\r\n",
    "        cur_idx = 0\r\n",
    "        while True:\r\n",
    "            cur_node = cur_node.next\r\n",
    "            if cur_idx == index:\r\n",
    "                return cur_node.data\r\n",
    "            cur_idx += 1\r\n",
    "        \r\n",
    "    def remove(self, index):\r\n",
    "        if index <0 or index >= self.length():\r\n",
    "            raise Exception(\"Invalide index\")\r\n",
    "        \r\n",
    "        cur_node = self.head\r\n",
    "        cur_idx = 0\r\n",
    "        while True:\r\n",
    "            last_node = cur_node\r\n",
    "            cur_node = cur_node.next\r\n",
    "            if cur_idx == index:\r\n",
    "                last_node.next = cur_node.next\r\n",
    "                return\r\n",
    "            cur_idx += 1\r\n",
    "        "
   ],
   "outputs": [],
   "metadata": {}
  },
  {
   "cell_type": "code",
   "execution_count": 72,
   "source": [
    "ll = linked_list()\r\n",
    "\r\n",
    "ll.append(1)\r\n",
    "ll.append(44)\r\n",
    "ll.append(564)\r\n",
    "ll.append(53)\r\n",
    "ll.display()\r\n",
    "\r\n",
    "print(ll.get(3))\r\n",
    "\r\n",
    "ll.remove(1)\r\n",
    "ll.display()"
   ],
   "outputs": [
    {
     "output_type": "stream",
     "name": "stdout",
     "text": [
      "[1, 44, 564, 53]\n",
      "None\n",
      "53\n",
      "None\n",
      "[1, 564, 53]\n"
     ]
    }
   ],
   "metadata": {}
  },
  {
   "cell_type": "markdown",
   "source": [
    "## Creation of single linked list"
   ],
   "metadata": {}
  },
  {
   "cell_type": "code",
   "execution_count": 2,
   "source": [
    "\r\n",
    "class node():\r\n",
    "    def __init__(self, value = None):\r\n",
    "        self.value = value\r\n",
    "        self.next = None\r\n",
    "        \r\n",
    "class Singly_linked_list:\r\n",
    "    def __init__(self):\r\n",
    "        self.head = None # not creating node like upper cell. here, it's just a placeholder. self.head = node1, means head pointing the node1\r\n",
    "        self.tail = None # note creating node\r\n",
    "        \r\n",
    "sll = Singly_linked_list()\r\n",
    "node1 = node(1) # creating node\r\n",
    "node2 = node(2) # creating node\r\n",
    "\r\n",
    "sll.head = node1       # pointing the head to the node1\r\n",
    "sll.head.next = node2  # settig node1's next = node2\r\n",
    "sll.tail = node2       # pointing the tail to the node2. as it is our last node here\r\n",
    "\r\n",
    "# CHECKING FOR DETAILS\r\n",
    "print(sll.head)\r\n",
    "print(node1)\r\n",
    "print(sll.head.next)\r\n",
    "print(node2)"
   ],
   "outputs": [],
   "metadata": {}
  },
  {
   "cell_type": "code",
   "execution_count": 19,
   "source": [
    "class node():\r\n",
    "    def __init__(self, value = None):\r\n",
    "        self.value = value\r\n",
    "        self.next = None\r\n",
    "        \r\n",
    "class Singly_linked_list:\r\n",
    "    def __init__(self):\r\n",
    "        self.head = None\r\n",
    "        self.tail = None\r\n",
    "    \r\n",
    "    def __iter__(self):      # itr through all the nodes and through the node's value\r\n",
    "        node = self.head \r\n",
    "        while node:\r\n",
    "            yield node       # it's a generator. return each value from the node\r\n",
    "            node = node.next\r\n",
    "    \r\n",
    "    def insert_node(self, value, location): # time complexity O(n), space complexity O(1)\r\n",
    "        newNode = node(value) # creating a new node\r\n",
    "        \r\n",
    "        if self.head is None:   # if this is an empty linked list\r\n",
    "            self.head = newNode # pointing head to the newly created node\r\n",
    "            self.tail = newNode # pointing tail to the newly created node as there is only 1 node\r\n",
    "        else:\r\n",
    "            if location == 0:             # adding new node at the beginning\r\n",
    "                newNode.next = self.head  # from new node pointing the current first node\r\n",
    "                self.head = newNode       # changing the head to point the new node\r\n",
    "                \r\n",
    "            elif location == 1:           # adding node to the last position\r\n",
    "                newNode.next  = None      # as the last node will point none\r\n",
    "                self.tail.next = newNode  # previously tail pointing the last node. now, i catching the current last node by tail.next & current last node pointing new node\r\n",
    "                self.tail = newNode       # pointing tail to the new node\r\n",
    "            \r\n",
    "            else:\r\n",
    "                prev_node = self.head          # for pointing prev node of the given location\r\n",
    "                idx = 0                        # for traves \r\n",
    "                while idx < location - 1:      # will stop before given location\r\n",
    "                    prev_node = prev_node.next # traves and throw error if idx out of range\r\n",
    "                    idx += 1\r\n",
    "                newNode.next = prev_node.next  # new node's next point the previously given location\r\n",
    "                prev_node.next = newNode       \r\n",
    "        "
   ],
   "outputs": [],
   "metadata": {}
  },
  {
   "cell_type": "code",
   "execution_count": 20,
   "source": [
    "singlyLinkedList = Singly_linked_list()\r\n",
    "\r\n",
    "singlyLinkedList.insert_node(1, 1)\r\n",
    "singlyLinkedList.insert_node(2, 1)\r\n",
    "singlyLinkedList.insert_node(3, 1)\r\n",
    "singlyLinkedList.insert_node(4, 1)\r\n",
    "\r\n",
    "singlyLinkedList.insert_node(0, 0)\r\n",
    "\r\n",
    "singlyLinkedList.insert_node(99, 3)\r\n",
    "\r\n",
    "print([node.value for node in singlyLinkedList]) # printing out the value from node. __iter__ automatically called"
   ],
   "outputs": [
    {
     "output_type": "stream",
     "name": "stdout",
     "text": [
      "[0, 1, 2, 999, 3, 4]\n"
     ]
    }
   ],
   "metadata": {}
  }
 ],
 "metadata": {
  "orig_nbformat": 4,
  "language_info": {
   "name": "python",
   "version": "3.8.5",
   "mimetype": "text/x-python",
   "codemirror_mode": {
    "name": "ipython",
    "version": 3
   },
   "pygments_lexer": "ipython3",
   "nbconvert_exporter": "python",
   "file_extension": ".py"
  },
  "kernelspec": {
   "name": "python3",
   "display_name": "Python 3.8.5 64-bit ('base': conda)"
  },
  "interpreter": {
   "hash": "b3ba2566441a7c06988d0923437866b63cedc61552a5af99d1f4fb67d367b25f"
  }
 },
 "nbformat": 4,
 "nbformat_minor": 2
}