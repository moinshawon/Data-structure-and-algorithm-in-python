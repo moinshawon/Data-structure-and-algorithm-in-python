{
 "cells": [
  {
   "cell_type": "markdown",
   "source": [
    "## Hashmap using list ❌"
   ],
   "metadata": {}
  },
  {
   "cell_type": "code",
   "execution_count": 7,
   "source": [
    "stock_prices = []\r\n",
    "\r\n",
    "with open(\"stock_prices.csv\",\"r\") as f:\r\n",
    "    for line in f:\r\n",
    "        tokens = line.split(',')\r\n",
    "        day = tokens[0]\r\n",
    "        price = float(tokens[1])\r\n",
    "        stock_prices.append([day, price])\r\n",
    "        \r\n",
    "print(stock_prices)\r\n",
    "print(stock_prices[0])\r\n",
    "print(stock_prices[0][1])"
   ],
   "outputs": [
    {
     "output_type": "stream",
     "name": "stdout",
     "text": [
      "[['march 6', 310.0], ['march 7', 340.0], ['march 8', 380.0], ['march 9', 302.0], ['march 10', 297.0], ['march 11', 323.0]]\n",
      "['march 6', 310.0]\n",
      "310.0\n"
     ]
    }
   ],
   "metadata": {}
  },
  {
   "cell_type": "code",
   "execution_count": 8,
   "source": [
    "for i in stock_prices:     # time complexity of using list is O(n)\r\n",
    "    if i[0] == 'march 6':\r\n",
    "        print(i[1])"
   ],
   "outputs": [
    {
     "output_type": "stream",
     "name": "stdout",
     "text": [
      "310.0\n"
     ]
    }
   ],
   "metadata": {}
  },
  {
   "cell_type": "markdown",
   "source": [
    "## Hashmap using dictionary ✔️"
   ],
   "metadata": {}
  },
  {
   "cell_type": "code",
   "execution_count": 76,
   "source": [
    "stock_prices = {}\r\n",
    "\r\n",
    "with open(\"stock_prices.csv\",\"r\") as f:\r\n",
    "    for line in f:\r\n",
    "        tokens = line.split(',')\r\n",
    "        day = tokens[0]\r\n",
    "        price = float(tokens[1])\r\n",
    "        stock_prices[day] = price\r\n",
    "        \r\n",
    "print(stock_prices)\r\n",
    "print(stock_prices['march 6'])   # so time complexity of using dict is O(1). better than list"
   ],
   "outputs": [
    {
     "output_type": "stream",
     "name": "stdout",
     "text": [
      "{'march 6': 310.0, 'march 7': 340.0, 'march 8': 380.0, 'march 9': 302.0, 'march 10': 297.0, 'march 11': 323.0}\n",
      "310.0\n"
     ]
    }
   ],
   "metadata": {}
  },
  {
   "cell_type": "markdown",
   "source": [
    "## Hashmap implementation 🥵:\r\n",
    "- create an array\r\n",
    "- calculate asci value of each key, sum all the character's value and return the mod value of it\r\n",
    "- the mod value will be the idx of that array\r\n",
    "- for setting: using idx, store in that array\r\n",
    "- for getting: using idx, take the element\r\n",
    "- for delete: using idx, make the idx None"
   ],
   "metadata": {}
  },
  {
   "cell_type": "code",
   "execution_count": 43,
   "source": [
    "class hashmap:\r\n",
    "    def __init__(self):\r\n",
    "        self.max_size = 100\r\n",
    "        self.arr  = [None for i in range(self.max_size)] # creating an array which is full of None value\r\n",
    "        \r\n",
    "    def get_mod_asci_num(self, key):\r\n",
    "        mod_value = 0\r\n",
    "        for i in key:\r\n",
    "            mod_value += ord(i)          # ord gives asci value of characters. mod_value is adding every string's asci value\r\n",
    "        return mod_value % self.max_size # doing mod so that value will be between 0 to max size\r\n",
    "    \r\n",
    "    def __setitem__(self, key, value):   # it is python's standard operation. automatically calls\r\n",
    "        idx = self.get_mod_asci_num(key) # taking which idx i will store the value\r\n",
    "        self.arr[idx] = value            # setting the value in that particular idx\r\n",
    "    \r\n",
    "    def __getitem__(self, key):          # it is python's standard operation. automatically calls\r\n",
    "        idx = self.get_mod_asci_num(key) # getting the asci num's mod. so that, we can access the idx of the list arr\r\n",
    "        return self.arr[idx]\r\n",
    "    \r\n",
    "    def __delitem__(self, key):\r\n",
    "        idx = self.get_mod_asci_num(key) # same thing like prev\r\n",
    "        self.arr[idx] = None             # make the idx value None"
   ],
   "outputs": [],
   "metadata": {}
  },
  {
   "cell_type": "code",
   "execution_count": 46,
   "source": [
    "a = hashmap()\r\n",
    "\r\n",
    "a['feb 2']  = 233  # the way we add into the dict. automatically calls the __setitem__ method\r\n",
    "a['apr 5']  = 45\r\n",
    "a['apr 6']  = 563\r\n",
    "a['apr 26'] = 43\r\n",
    "a['apr 29'] = 94\r\n",
    "\r\n",
    "print(a['apr 5']) # automatically calls __getitem__ method\r\n",
    "\r\n",
    "del a['apr 5'] # auto automatically calls __delitem__ method\r\n",
    "\r\n",
    "print(a['apr 5'])\r\n",
    "print(a.arr)"
   ],
   "outputs": [
    {
     "output_type": "stream",
     "name": "stdout",
     "text": [
      "45\n",
      "None\n",
      "[None, None, None, None, None, None, None, None, None, 563, None, None, None, None, None, None, None, None, None, None, None, None, None, None, None, None, None, None, None, None, None, None, None, None, None, None, None, None, None, None, None, None, None, None, None, None, None, None, None, None, None, None, None, None, None, None, None, None, None, 43, None, None, 94, None, None, None, None, None, None, None, None, None, None, None, None, None, None, None, None, None, None, None, None, 233, None, None, None, None, None, None, None, None, None, None, None, None, None, None, None, None]\n"
     ]
    }
   ],
   "metadata": {}
  },
  {
   "cell_type": "markdown",
   "source": [
    "### How to access and iterate through tuple:"
   ],
   "metadata": {}
  },
  {
   "cell_type": "code",
   "execution_count": 5,
   "source": [
    "l = [[('moin', '3')],[('raihan', '23'),('arnob', '3')],[('rifst','34')]]\r\n",
    "\r\n",
    "for i,j in enumerate(l[1]):\r\n",
    "    print(i,j[0])\r\n",
    "    l[1][i] = ('arnob','23')\r\n",
    "print(l)"
   ],
   "outputs": [
    {
     "output_type": "stream",
     "name": "stdout",
     "text": [
      "0 raihan\n",
      "1 arnob\n",
      "[[('moin', '3')], [('arnob', '23'), ('arnob', '23')], [('rifst', '34')]]\n"
     ]
    }
   ],
   "metadata": {}
  },
  {
   "cell_type": "code",
   "execution_count": 35,
   "source": [
    "l = [['raihan', '33'], ['miin', '89']]\r\n",
    "\r\n",
    "for i, j in enumerate(l):\r\n",
    "    print(i,j)"
   ],
   "outputs": [
    {
     "output_type": "stream",
     "name": "stdout",
     "text": [
      "0 ['raihan', '33']\n",
      "1 ['miin', '89']\n"
     ]
    }
   ],
   "metadata": {}
  },
  {
   "cell_type": "markdown",
   "source": [
    "## Collision Handling In Hash map 👹:"
   ],
   "metadata": {}
  },
  {
   "cell_type": "code",
   "execution_count": 21,
   "source": [
    "class hashmap:\r\n",
    "    def __init__(self):\r\n",
    "        self.max_size = 10\r\n",
    "        self.arr  = [[] for i in range(self.max_size)] # in a list, creating another list for storing key, value pair\r\n",
    "        \r\n",
    "    def get_mod_asci_num(self, key):\r\n",
    "        mod_value = 0\r\n",
    "        for i in key:\r\n",
    "            mod_value += ord(i)          # ord gives asci value of characters. mod_value is adding every string's asci value\r\n",
    "        return mod_value % self.max_size # doing mod so that value will be between 0 to max size\r\n",
    "    \r\n",
    "    def __setitem__(self, key, value):   # it is python's standard operation. automatically calls\r\n",
    "        idx = self.get_mod_asci_num(key) # taking which idx i will store the value\r\n",
    "        found = False\r\n",
    "        \r\n",
    "        for idx_idx, elements in enumerate(self.arr[idx]): # go to main arr, idx_idx is the index value, elements for tuples\r\n",
    "            if len(elements) == 2 and elements[0] == key:  # check if the key already exists. len 2 means it will be pair, elements[0] means first element of that pair\r\n",
    "                self.arr[idx][idx_idx] = (key, value)      # updating the existing idx\r\n",
    "                found = True\r\n",
    "                break\r\n",
    "            \r\n",
    "        if not found:\r\n",
    "            self.arr[idx].append((key, value))  # if the asci value is same for multiple keys, then we will add in the same list\r\n",
    "    \r\n",
    "    def __getitem__(self, key):          # it is python's standard operation. automatically calls\r\n",
    "        idx = self.get_mod_asci_num(key) # getting the asci num's mod. so that, we can access the idx of the list arr\r\n",
    "        for i in self.arr[idx]:          # if there is multiple key value pair in the list, we will traves through it\r\n",
    "            if i[0] == key:              # when key is send for printing, first element in the pair is key\r\n",
    "                return i[1]              # second element in the pair is value\r\n",
    "    \r\n",
    "    def __delitem__(self, key):\r\n",
    "        idx = self.get_mod_asci_num(key)                    # same thing like prev\r\n",
    "        for idx_idx, elements in enumerate(self.arr[idx]):  # iterate through that index\r\n",
    "            if elements[0] == key:                          \r\n",
    "                del self.arr[idx][idx_idx]                  # delete the array's idx"
   ],
   "outputs": [],
   "metadata": {}
  },
  {
   "cell_type": "code",
   "execution_count": 24,
   "source": [
    "t = hashmap()\r\n",
    "t[\"march 6\"] = 310\r\n",
    "t[\"march 7\"] = 420\r\n",
    "t[\"march 8\"] = 67\r\n",
    "t[\"march 17\"] = 63457\r\n",
    "\r\n",
    "print(t['march 6'])\r\n",
    "print(t['march 17'])\r\n",
    "\r\n",
    "print(t.arr)\r\n",
    "\r\n",
    "del t['march 17'] # auto automatically calls __delitem__ method\r\n",
    "print(t.arr)\r\n"
   ],
   "outputs": [
    {
     "output_type": "stream",
     "name": "stdout",
     "text": [
      "310\n",
      "63457\n",
      "[[('march 7', 420)], [('march 8', 67)], [], [], [], [], [], [], [], [('march 6', 310), ('march 17', 63457)]]\n",
      "[[('march 7', 420)], [('march 8', 67)], [], [], [], [], [], [], [], [('march 6', 310)]]\n"
     ]
    }
   ],
   "metadata": {}
  },
  {
   "cell_type": "markdown",
   "source": [
    "## Exercise: Hash Table: New York City Weather Analysis\r\n",
    "(1) nyc_weather.csv contains new york city weather for first few days in the month of January. Write a program that can answer following,\r\n",
    "\r\n",
    "- What was the average temperature in first week of Jan?\r\n",
    "\r\n",
    "- What was the maximum temperature in first 10 days of Jan?\r\n",
    "\r\n",
    "  Figure out data structure that is best for this problem"
   ],
   "metadata": {}
  },
  {
   "cell_type": "code",
   "execution_count": 73,
   "source": [
    "temp_list = []\r\n",
    "\r\n",
    "with open(\"nyc_weather.csv\",\"r\") as f:\r\n",
    "    a = f.readlines()\r\n",
    "    for line in a[1:]:\r\n",
    "        tokens = line.strip().split(',')\r\n",
    "        temp = tokens[1]\r\n",
    "        temp_list.append(temp)\r\n",
    "\r\n",
    "avg_temp = 0\r\n",
    "for i in temp_list[:7]:\r\n",
    "    avg_temp += int(i)\r\n",
    "    \r\n",
    "print(\"average temperature in first week of Jan:\", avg_temp/len(temp_list[:7]))\r\n",
    "\r\n",
    "print(\"maximum temperature in first 10 days of Jan:\", max(temp_list))"
   ],
   "outputs": [
    {
     "output_type": "stream",
     "name": "stdout",
     "text": [
      "average temperature in first week of Jan: 31.285714285714285\n",
      "maximum temperature in first 10 days of Jan: 38\n"
     ]
    }
   ],
   "metadata": {}
  },
  {
   "cell_type": "markdown",
   "source": [
    "(2) nyc_weather.csv contains new york city weather for first few days in the month of January. Write a program that can answer following,\r\n",
    "\r\n",
    "- What was the temperature on Jan 9?\r\n",
    "\r\n",
    "- What was the temperature on Jan 4?\r\n",
    "\r\n",
    "  Figure out data structure that is best for this problem"
   ],
   "metadata": {}
  },
  {
   "cell_type": "code",
   "execution_count": 75,
   "source": [
    "temp_dic = {}\r\n",
    "\r\n",
    "with open(\"nyc_weather.csv\",\"r\") as f:\r\n",
    "    a = f.readlines()\r\n",
    "    for line in a[1:]:\r\n",
    "        tokens = line.strip().split(',')\r\n",
    "        date = tokens[0]\r\n",
    "        temp = tokens[1]\r\n",
    "        temp_dic[date] = temp\r\n",
    "        \r\n",
    "print(\"temperature on Jan 9:\", temp_dic['Jan 9'])\r\n",
    "print(\"temperature on Jan 4:\", temp_dic['Jan 4'])"
   ],
   "outputs": [
    {
     "output_type": "stream",
     "name": "stdout",
     "text": [
      "temperature on Jan 9: 35\n",
      "temperature on Jan 4: 34\n"
     ]
    }
   ],
   "metadata": {}
  },
  {
   "cell_type": "markdown",
   "source": [
    "(3) poem.txt Contains famous poem \"Road not taken\" by poet Robert Frost. \r\n",
    "You have to read this file in python and print every word and its count as show below. Think about the best data structure that you can use to solve this problem and figure out why you selected that specific data structure."
   ],
   "metadata": {}
  },
  {
   "cell_type": "code",
   "execution_count": 95,
   "source": [
    "word = {}\r\n",
    "\r\n",
    "with open(\"poem.txt\",\"r\") as f:\r\n",
    "    for line in f:\r\n",
    "        tokens = line.strip().split(\" \")\r\n",
    "        for i in tokens:\r\n",
    "            if i in word:\r\n",
    "                word[i] += 1\r\n",
    "            else:\r\n",
    "                word[i] = 1\r\n",
    "print(word)"
   ],
   "outputs": [
    {
     "output_type": "stream",
     "name": "stdout",
     "text": [
      "{'Two': 2, 'roads': 2, 'diverged': 2, 'in': 3, 'a': 3, 'yellow': 1, 'wood,': 2, 'And': 6, 'sorry': 1, 'I': 8, 'could': 2, 'not': 1, 'travel': 1, 'both': 2, 'be': 2, 'one': 3, 'traveler,': 1, 'long': 1, 'stood': 1, 'looked': 1, 'down': 1, 'as': 5, 'far': 1, 'To': 1, 'where': 1, 'it': 2, 'bent': 1, 'the': 8, 'undergrowth;': 1, '': 3, 'Then': 1, 'took': 2, 'other,': 1, 'just': 1, 'fair,': 1, 'having': 1, 'perhaps': 1, 'better': 1, 'claim,': 1, 'Because': 1, 'was': 1, 'grassy': 1, 'and': 3, 'wanted': 1, 'wear;': 1, 'Though': 1, 'for': 2, 'that': 3, 'passing': 1, 'there': 1, 'Had': 1, 'worn': 1, 'them': 1, 'really': 1, 'about': 1, 'same,': 1, 'morning': 1, 'equally': 1, 'lay': 1, 'In': 1, 'leaves': 1, 'no': 1, 'step': 1, 'had': 1, 'trodden': 1, 'black.': 1, 'Oh,': 1, 'kept': 1, 'first': 1, 'another': 1, 'day!': 1, 'Yet': 1, 'knowing': 1, 'how': 1, 'way': 1, 'leads': 1, 'on': 1, 'to': 1, 'way,': 1, 'doubted': 1, 'if': 1, 'should': 1, 'ever': 1, 'come': 1, 'back.': 1, 'shall': 1, 'telling': 1, 'this': 1, 'with': 1, 'sigh': 1, 'Somewhere': 1, 'ages': 2, 'hence:': 1, 'Iâ€”': 1, 'less': 1, 'traveled': 1, 'by,': 1, 'has': 1, 'made': 1, 'all': 1, 'difference.': 1}\n"
     ]
    }
   ],
   "metadata": {}
  }
 ],
 "metadata": {
  "orig_nbformat": 4,
  "language_info": {
   "name": "python",
   "version": "3.8.5",
   "mimetype": "text/x-python",
   "codemirror_mode": {
    "name": "ipython",
    "version": 3
   },
   "pygments_lexer": "ipython3",
   "nbconvert_exporter": "python",
   "file_extension": ".py"
  },
  "kernelspec": {
   "name": "python3",
   "display_name": "Python 3.8.5 64-bit ('base': conda)"
  },
  "interpreter": {
   "hash": "b3ba2566441a7c06988d0923437866b63cedc61552a5af99d1f4fb67d367b25f"
  }
 },
 "nbformat": 4,
 "nbformat_minor": 2
}