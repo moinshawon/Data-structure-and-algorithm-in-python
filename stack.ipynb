{
 "cells": [
  {
   "cell_type": "markdown",
   "source": [
    "## Stack using list ❌"
   ],
   "metadata": {}
  },
  {
   "cell_type": "markdown",
   "source": [
    "Time complexity: \\\r\n",
    "pop() = O(1) \\\r\n",
    "search element by value = O(n)"
   ],
   "metadata": {}
  },
  {
   "cell_type": "code",
   "execution_count": 12,
   "source": [
    "s = []\r\n",
    "s.append(\"fb.com\")\r\n",
    "s.append(\"github.com\")\r\n",
    "s.append(\"python.com\")\r\n",
    "s.append(\"hackerranked.com\")\r\n",
    "s"
   ],
   "outputs": [
    {
     "output_type": "execute_result",
     "data": {
      "text/plain": [
       "['fb.com', 'github.com', 'python.com', 'hackerranked.com']"
      ]
     },
     "metadata": {},
     "execution_count": 12
    }
   ],
   "metadata": {}
  },
  {
   "cell_type": "code",
   "execution_count": 13,
   "source": [
    "print(s.pop())  # will pop the last element, also remove it from the list\r\n",
    "print(s) "
   ],
   "outputs": [
    {
     "output_type": "stream",
     "name": "stdout",
     "text": [
      "hackerranked.com\n",
      "['fb.com', 'github.com', 'python.com']\n"
     ]
    }
   ],
   "metadata": {}
  },
  {
   "cell_type": "markdown",
   "source": [
    "List is not good for stack. When the memory location is filled out and there is no more space left, list used to allocate another space from the memory and copy all the previous code and paste it in the new location. The new location's size is double than prev length. That's why we will use build it funtion called deque."
   ],
   "metadata": {}
  },
  {
   "cell_type": "markdown",
   "source": [
    "## Stack using deque function ✔️"
   ],
   "metadata": {}
  },
  {
   "cell_type": "code",
   "execution_count": 1,
   "source": [
    "from collections import deque  # build in doubely linked list\r\n",
    "s = deque()                    # creating instance for deque class"
   ],
   "outputs": [],
   "metadata": {}
  },
  {
   "cell_type": "code",
   "execution_count": 15,
   "source": [
    "s.append(\"fb.com\")\r\n",
    "s.append(\"github.com\")\r\n",
    "s.append(\"python.com\")\r\n",
    "s.append(\"hackerranked.com\")"
   ],
   "outputs": [],
   "metadata": {}
  },
  {
   "cell_type": "code",
   "execution_count": 16,
   "source": [
    "s.pop()\r\n",
    "print(s)"
   ],
   "outputs": [
    {
     "output_type": "stream",
     "name": "stdout",
     "text": [
      "deque(['fb.com', 'github.com', 'python.com'])\n"
     ]
    }
   ],
   "metadata": {}
  },
  {
   "cell_type": "markdown",
   "source": [
    "## Implementing stack class using deque():"
   ],
   "metadata": {}
  },
  {
   "cell_type": "code",
   "execution_count": 2,
   "source": [
    "class stack():                        # making suitable a class for using stack\r\n",
    "    def __init__(self):\r\n",
    "        self.container = deque()\r\n",
    "    \r\n",
    "    def push(self, val):\r\n",
    "        self.container.append(val)\r\n",
    "    \r\n",
    "    def pop(self):\r\n",
    "        return self.container.pop()\r\n",
    "    \r\n",
    "    def peek(self):\r\n",
    "        return self.container[-1]\r\n",
    "    \r\n",
    "    def is_empty(self):\r\n",
    "        return len(self.container) == 0\r\n",
    "    \r\n",
    "    def length(self):\r\n",
    "        return len(self.container)\r\n",
    "    "
   ],
   "outputs": [],
   "metadata": {}
  },
  {
   "cell_type": "code",
   "execution_count": 30,
   "source": [
    "s = stack()\r\n",
    "s.push(\"fb.com\")\r\n",
    "s.push(\"github.com\")\r\n",
    "s.push(\"python.com\")\r\n",
    "s.push(\"hackerranked.com\")"
   ],
   "outputs": [],
   "metadata": {}
  },
  {
   "cell_type": "code",
   "execution_count": 31,
   "source": [
    "s.pop()\r\n",
    "s.length()"
   ],
   "outputs": [
    {
     "output_type": "execute_result",
     "data": {
      "text/plain": [
       "3"
      ]
     },
     "metadata": {},
     "execution_count": 31
    }
   ],
   "metadata": {}
  },
  {
   "cell_type": "markdown",
   "source": [
    "## Write a function in python that can reverse a string using stack data structure.\r\n",
    "```\r\n",
    "    reverse_string(\"We will conquere COVID-19\") should return \"91-DIVOC ereuqnoc lliw eW\"\r\n",
    "```"
   ],
   "metadata": {}
  },
  {
   "cell_type": "code",
   "execution_count": 3,
   "source": [
    "def reverse_string(elem):\r\n",
    "    s = stack()\r\n",
    "    \r\n",
    "    for i in elem:\r\n",
    "        s.push(i)\r\n",
    "    \r\n",
    "    reverse_str = \"\"\r\n",
    "    while s.length() != 0 :\r\n",
    "        reverse_str += s.pop()\r\n",
    "    \r\n",
    "    return reverse_str"
   ],
   "outputs": [],
   "metadata": {}
  },
  {
   "cell_type": "code",
   "execution_count": 9,
   "source": [
    "print(reverse_string(\"COVID-19\"))\r\n",
    "print(reverse_string(\"Moinul\"))"
   ],
   "outputs": [
    {
     "output_type": "stream",
     "name": "stdout",
     "text": [
      "91-DIVOC\n",
      "lunioM\n"
     ]
    }
   ],
   "metadata": {}
  },
  {
   "cell_type": "markdown",
   "source": [
    "## Write a function in python that checks if paranthesis in the string are balanced or not. Possible parantheses are \"{}',\"()\" or \"[]\". \r\n",
    "```\r\n",
    "    is_balanced(\"({a+b})\")     --> True\r\n",
    "    is_balanced(\"))((a+b}{\")   --> False\r\n",
    "    is_balanced(\"((a+b))\")     --> True\r\n",
    "    is_balanced(\"))\")          --> False\r\n",
    "    is_balanced(\"[a+b]*(x+2y)*{gg+kk}\") --> True\r\n",
    "```"
   ],
   "metadata": {}
  },
  {
   "cell_type": "code",
   "execution_count": 5,
   "source": [
    "def matching(ch1, ch2):\r\n",
    "    match_dict = {'(': ')',\r\n",
    "            '{' : '}',\r\n",
    "            '[' : ']'}\r\n",
    "    \r\n",
    "    return match_dict[ch1] == ch2           # ch1 is the first parentheses, ch2 is the second parentheses\r\n",
    "\r\n",
    "def is_check(elem):\r\n",
    "    s = stack()\r\n",
    "    \r\n",
    "    for i in elem:\r\n",
    "        \r\n",
    "        if i == \"(\" or i == \"{\" or i == \"[\":\r\n",
    "            s.push(i)\r\n",
    "            \r\n",
    "        if i == \")\" or i == \"}\" or i == \"]\":\r\n",
    "            if s.length() == 0:\r\n",
    "                return False\r\n",
    "            \r\n",
    "            if not matching(s.pop(), i):    # (pop starting parentheses, closing parentheses)\r\n",
    "                return False\r\n",
    "            \r\n",
    "    return s.length() == 0                  # check when there is no elements left then it's done"
   ],
   "outputs": [],
   "metadata": {}
  },
  {
   "cell_type": "code",
   "execution_count": 7,
   "source": [
    "print(is_check(\"({a+b)\"))\r\n",
    "print(is_check(\"({a+b})\"))"
   ],
   "outputs": [
    {
     "output_type": "stream",
     "name": "stdout",
     "text": [
      "False\n",
      "True\n"
     ]
    }
   ],
   "metadata": {}
  }
 ],
 "metadata": {
  "orig_nbformat": 4,
  "language_info": {
   "name": "python",
   "version": "3.8.5",
   "mimetype": "text/x-python",
   "codemirror_mode": {
    "name": "ipython",
    "version": 3
   },
   "pygments_lexer": "ipython3",
   "nbconvert_exporter": "python",
   "file_extension": ".py"
  },
  "kernelspec": {
   "name": "python3",
   "display_name": "Python 3.8.5 64-bit ('base': conda)"
  },
  "interpreter": {
   "hash": "b3ba2566441a7c06988d0923437866b63cedc61552a5af99d1f4fb67d367b25f"
  }
 },
 "nbformat": 4,
 "nbformat_minor": 2
}